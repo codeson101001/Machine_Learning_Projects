{
  "nbformat": 4,
  "nbformat_minor": 0,
  "metadata": {
    "colab": {
      "name": " 3M: .ipynb",
      "provenance": [],
      "collapsed_sections": [],
      "authorship_tag": "ABX9TyNT2LauIIxoAxKaWcW+591q",
      "include_colab_link": true
    },
    "kernelspec": {
      "name": "python3",
      "display_name": "Python 3"
    }
  },
  "cells": [
    {
      "cell_type": "markdown",
      "metadata": {
        "id": "view-in-github",
        "colab_type": "text"
      },
      "source": [
        "<a href=\"https://colab.research.google.com/github/codeson101001/Stock-Prediction-Models/blob/master/3M_.ipynb\" target=\"_parent\"><img src=\"https://colab.research.google.com/assets/colab-badge.svg\" alt=\"Open In Colab\"/></a>"
      ]
    },
    {
      "cell_type": "code",
      "metadata": {
        "id": "iho8yZdsQbfu",
        "colab_type": "code",
        "colab": {
          "base_uri": "https://localhost:8080/",
          "height": 456
        },
        "outputId": "484e5d63-03f9-487e-89d1-7375e69816c0"
      },
      "source": [
        "import numpy as np\n",
        "import pandas as pd\n",
        "import matplotlib.pyplot as plt\n",
        "import seaborn as sns\n",
        "sns.set()\n",
        "!pip install yfinance\n",
        "import yfinance as yf\n",
        "#df = yf.download(tickers=\"MMM\", period=\"1y\", interval=\"1d\")  \n",
        "df = yf.download(\"VZ\", start=\"2020-06-10\", end=\"2020-09-10\")"
      ],
      "execution_count": 1,
      "outputs": [
        {
          "output_type": "stream",
          "text": [
            "/usr/local/lib/python3.6/dist-packages/statsmodels/tools/_testing.py:19: FutureWarning: pandas.util.testing is deprecated. Use the functions in the public API at pandas.testing instead.\n",
            "  import pandas.util.testing as tm\n"
          ],
          "name": "stderr"
        },
        {
          "output_type": "stream",
          "text": [
            "Collecting yfinance\n",
            "  Downloading https://files.pythonhosted.org/packages/c2/31/8b374a12b90def92a4e27d0fc595fc43635f395984e36a075244d98bd265/yfinance-0.1.54.tar.gz\n",
            "Requirement already satisfied: pandas>=0.24 in /usr/local/lib/python3.6/dist-packages (from yfinance) (1.0.5)\n",
            "Requirement already satisfied: numpy>=1.15 in /usr/local/lib/python3.6/dist-packages (from yfinance) (1.18.5)\n",
            "Requirement already satisfied: requests>=2.20 in /usr/local/lib/python3.6/dist-packages (from yfinance) (2.23.0)\n",
            "Requirement already satisfied: multitasking>=0.0.7 in /usr/local/lib/python3.6/dist-packages (from yfinance) (0.0.9)\n",
            "Requirement already satisfied: python-dateutil>=2.6.1 in /usr/local/lib/python3.6/dist-packages (from pandas>=0.24->yfinance) (2.8.1)\n",
            "Requirement already satisfied: pytz>=2017.2 in /usr/local/lib/python3.6/dist-packages (from pandas>=0.24->yfinance) (2018.9)\n",
            "Requirement already satisfied: certifi>=2017.4.17 in /usr/local/lib/python3.6/dist-packages (from requests>=2.20->yfinance) (2020.6.20)\n",
            "Requirement already satisfied: chardet<4,>=3.0.2 in /usr/local/lib/python3.6/dist-packages (from requests>=2.20->yfinance) (3.0.4)\n",
            "Requirement already satisfied: idna<3,>=2.5 in /usr/local/lib/python3.6/dist-packages (from requests>=2.20->yfinance) (2.10)\n",
            "Requirement already satisfied: urllib3!=1.25.0,!=1.25.1,<1.26,>=1.21.1 in /usr/local/lib/python3.6/dist-packages (from requests>=2.20->yfinance) (1.24.3)\n",
            "Requirement already satisfied: six>=1.5 in /usr/local/lib/python3.6/dist-packages (from python-dateutil>=2.6.1->pandas>=0.24->yfinance) (1.15.0)\n",
            "Building wheels for collected packages: yfinance\n",
            "  Building wheel for yfinance (setup.py) ... \u001b[?25l\u001b[?25hdone\n",
            "  Created wheel for yfinance: filename=yfinance-0.1.54-py2.py3-none-any.whl size=22409 sha256=7b57974b24e4d18f6631e0e7820e3de29d018de5e9c0f04fcdf6295a3a45a2d3\n",
            "  Stored in directory: /root/.cache/pip/wheels/f9/e3/5b/ec24dd2984b12d61e0abf26289746c2436a0e7844f26f2515c\n",
            "Successfully built yfinance\n",
            "Installing collected packages: yfinance\n",
            "Successfully installed yfinance-0.1.54\n",
            "[*********************100%***********************]  1 of 1 completed\n"
          ],
          "name": "stdout"
        }
      ]
    },
    {
      "cell_type": "code",
      "metadata": {
        "id": "eu5gX8avQhtm",
        "colab_type": "code",
        "colab": {
          "base_uri": "https://localhost:8080/",
          "height": 455
        },
        "outputId": "e1670845-5510-405c-a1f7-e9989214f842"
      },
      "source": [
        "#This is how I calucalte my short and long window for the moving avg in the future\n",
        "short_window = int(0.020 * len(df))\n",
        "long_window = int(0.06 * len(df))\n",
        "\n",
        "#We are storing the data from the stock information into signals\n",
        "signals = pd.DataFrame(index = df.index)\n",
        "\n",
        "#Here we are creating our dataframe column titles\n",
        "signals['price'] = df['Close']\n",
        "\n",
        "#We start by seting signals to 0.0 \n",
        "signals['signal'] = 0.0\n",
        "signals['short_ma'] = df['Close'].rolling(window=short_window, min_periods=1, center=False).mean()\n",
        "signals['long_ma'] = df['Close'].rolling(window=long_window, min_periods=1, center=False).mean()\n",
        "\n",
        "signals['signal'][short_window:] = np.where(signals['short_ma'][short_window:] > signals['long_ma'][short_window:], 1.0, 0.0)   \n",
        "signals['positions'] = signals['signal'].diff()\n",
        "\n",
        "signals"
      ],
      "execution_count": 2,
      "outputs": [
        {
          "output_type": "execute_result",
          "data": {
            "text/html": [
              "<div>\n",
              "<style scoped>\n",
              "    .dataframe tbody tr th:only-of-type {\n",
              "        vertical-align: middle;\n",
              "    }\n",
              "\n",
              "    .dataframe tbody tr th {\n",
              "        vertical-align: top;\n",
              "    }\n",
              "\n",
              "    .dataframe thead th {\n",
              "        text-align: right;\n",
              "    }\n",
              "</style>\n",
              "<table border=\"1\" class=\"dataframe\">\n",
              "  <thead>\n",
              "    <tr style=\"text-align: right;\">\n",
              "      <th></th>\n",
              "      <th>price</th>\n",
              "      <th>signal</th>\n",
              "      <th>short_ma</th>\n",
              "      <th>long_ma</th>\n",
              "      <th>positions</th>\n",
              "    </tr>\n",
              "    <tr>\n",
              "      <th>Date</th>\n",
              "      <th></th>\n",
              "      <th></th>\n",
              "      <th></th>\n",
              "      <th></th>\n",
              "      <th></th>\n",
              "    </tr>\n",
              "  </thead>\n",
              "  <tbody>\n",
              "    <tr>\n",
              "      <th>2020-06-10</th>\n",
              "      <td>58.049999</td>\n",
              "      <td>0.0</td>\n",
              "      <td>58.049999</td>\n",
              "      <td>58.049999</td>\n",
              "      <td>NaN</td>\n",
              "    </tr>\n",
              "    <tr>\n",
              "      <th>2020-06-11</th>\n",
              "      <td>56.450001</td>\n",
              "      <td>0.0</td>\n",
              "      <td>56.450001</td>\n",
              "      <td>57.250000</td>\n",
              "      <td>0.0</td>\n",
              "    </tr>\n",
              "    <tr>\n",
              "      <th>2020-06-12</th>\n",
              "      <td>56.529999</td>\n",
              "      <td>0.0</td>\n",
              "      <td>56.529999</td>\n",
              "      <td>57.010000</td>\n",
              "      <td>0.0</td>\n",
              "    </tr>\n",
              "    <tr>\n",
              "      <th>2020-06-15</th>\n",
              "      <td>56.150002</td>\n",
              "      <td>0.0</td>\n",
              "      <td>56.150002</td>\n",
              "      <td>56.376667</td>\n",
              "      <td>0.0</td>\n",
              "    </tr>\n",
              "    <tr>\n",
              "      <th>2020-06-16</th>\n",
              "      <td>56.919998</td>\n",
              "      <td>1.0</td>\n",
              "      <td>56.919998</td>\n",
              "      <td>56.533333</td>\n",
              "      <td>1.0</td>\n",
              "    </tr>\n",
              "    <tr>\n",
              "      <th>...</th>\n",
              "      <td>...</td>\n",
              "      <td>...</td>\n",
              "      <td>...</td>\n",
              "      <td>...</td>\n",
              "      <td>...</td>\n",
              "    </tr>\n",
              "    <tr>\n",
              "      <th>2020-09-02</th>\n",
              "      <td>60.529999</td>\n",
              "      <td>1.0</td>\n",
              "      <td>60.529999</td>\n",
              "      <td>59.653333</td>\n",
              "      <td>1.0</td>\n",
              "    </tr>\n",
              "    <tr>\n",
              "      <th>2020-09-03</th>\n",
              "      <td>60.610001</td>\n",
              "      <td>1.0</td>\n",
              "      <td>60.610001</td>\n",
              "      <td>60.100000</td>\n",
              "      <td>0.0</td>\n",
              "    </tr>\n",
              "    <tr>\n",
              "      <th>2020-09-04</th>\n",
              "      <td>60.480000</td>\n",
              "      <td>0.0</td>\n",
              "      <td>60.480000</td>\n",
              "      <td>60.540000</td>\n",
              "      <td>-1.0</td>\n",
              "    </tr>\n",
              "    <tr>\n",
              "      <th>2020-09-08</th>\n",
              "      <td>59.959999</td>\n",
              "      <td>0.0</td>\n",
              "      <td>59.959999</td>\n",
              "      <td>60.350000</td>\n",
              "      <td>0.0</td>\n",
              "    </tr>\n",
              "    <tr>\n",
              "      <th>2020-09-09</th>\n",
              "      <td>60.040001</td>\n",
              "      <td>0.0</td>\n",
              "      <td>60.040001</td>\n",
              "      <td>60.160000</td>\n",
              "      <td>0.0</td>\n",
              "    </tr>\n",
              "  </tbody>\n",
              "</table>\n",
              "<p>64 rows × 5 columns</p>\n",
              "</div>"
            ],
            "text/plain": [
              "                price  signal   short_ma    long_ma  positions\n",
              "Date                                                          \n",
              "2020-06-10  58.049999     0.0  58.049999  58.049999        NaN\n",
              "2020-06-11  56.450001     0.0  56.450001  57.250000        0.0\n",
              "2020-06-12  56.529999     0.0  56.529999  57.010000        0.0\n",
              "2020-06-15  56.150002     0.0  56.150002  56.376667        0.0\n",
              "2020-06-16  56.919998     1.0  56.919998  56.533333        1.0\n",
              "...               ...     ...        ...        ...        ...\n",
              "2020-09-02  60.529999     1.0  60.529999  59.653333        1.0\n",
              "2020-09-03  60.610001     1.0  60.610001  60.100000        0.0\n",
              "2020-09-04  60.480000     0.0  60.480000  60.540000       -1.0\n",
              "2020-09-08  59.959999     0.0  59.959999  60.350000        0.0\n",
              "2020-09-09  60.040001     0.0  60.040001  60.160000        0.0\n",
              "\n",
              "[64 rows x 5 columns]"
            ]
          },
          "metadata": {
            "tags": []
          },
          "execution_count": 2
        }
      ]
    },
    {
      "cell_type": "code",
      "metadata": {
        "id": "zSLphQOmQwIL",
        "colab_type": "code",
        "colab": {}
      },
      "source": [
        "#This is the stock simulator\n",
        "def buy_stock(real_movement, signal, initial_money = 10000, max_buy = 3500, max_sell = 3500,):\n",
        "\n",
        "    starting_money = initial_money\n",
        "    states_sell = []\n",
        "    states_buy = []\n",
        "    current_inventory = 0\n",
        "\n",
        "    #\"i\" is the day\n",
        "    #\"initial_money\" is your money that you started out with\n",
        "    #\"real_movement\" is the your money in the stock, which can be larger or smaller that the initial_money \n",
        "    def buy(i, initial_money, current_inventory):\n",
        "        #Here we calualate the number of shares we want to buy using floor division, beucase we can not get pieces of a stock share\n",
        "        shares = initial_money // real_movement[i]\n",
        "\n",
        "        if shares < 1:\n",
        "            print('day %d: total balances %f, not enough money to buy a unit price %f'% (i, initial_money, real_movement[i]))\n",
        "\n",
        "        else:\n",
        "\n",
        "            if shares > max_buy:\n",
        "                buy_units = max_buy\n",
        "\n",
        "            else:\n",
        "                buy_units = shares\n",
        "            initial_money -= buy_units * real_movement[i]\n",
        "            current_inventory += buy_units\n",
        "            print('day %d: buy %d units at price %f, total balance %f'% (i, buy_units, buy_units * real_movement[i], initial_money))\n",
        "            states_buy.append(0)\n",
        "\n",
        "        return initial_money, current_inventory\n",
        "\n",
        "\n",
        "\n",
        "    #This will run for all the dates in in the df \n",
        "    for i in range(real_movement.shape[0] - int(0.025 * len(df))):\n",
        "        state = signal[i]\n",
        "\n",
        "        if state == 1:\n",
        "            initial_money, current_inventory = buy(i, initial_money, current_inventory)\n",
        "            states_buy.append(i)\n",
        "\n",
        "        elif state == -1:\n",
        "\n",
        "            if current_inventory == 0:\n",
        "                    print('day %d: cannot sell anything, inventory 0' % (i))\n",
        "\n",
        "            else:\n",
        "              \n",
        "                if current_inventory > max_sell:\n",
        "                    sell_units = max_sell\n",
        "\n",
        "                else:\n",
        "                    sell_units = current_inventory\n",
        "                current_inventory -= sell_units\n",
        "                total_sell = sell_units * real_movement[i]\n",
        "                initial_money += total_sell\n",
        "\n",
        "                try:\n",
        "                    invest = (\n",
        "                        (real_movement[i] - real_movement[states_buy[-1]])\n",
        "                        / real_movement[states_buy[-1]]\n",
        "                    ) * 100\n",
        "\n",
        "                except:\n",
        "                    invest = 0\n",
        "                print('day %d, sell %d units at price %f, investment %f %%, total balance %f,'% (i, sell_units, total_sell, invest, initial_money))\n",
        "\n",
        "            states_sell.append(i)\n",
        "\n",
        "\n",
        "\n",
        "    invest = ((initial_money - starting_money) / starting_money) * 100\n",
        "    total_gains = initial_money - starting_money\n",
        "    return states_buy, states_sell, total_gains, invest\n"
      ],
      "execution_count": 3,
      "outputs": []
    },
    {
      "cell_type": "code",
      "metadata": {
        "id": "NgKXHSyUQynC",
        "colab_type": "code",
        "colab": {
          "base_uri": "https://localhost:8080/",
          "height": 417
        },
        "outputId": "9f28d2da-408a-44ea-8369-b8d99a369e40"
      },
      "source": [
        "states_buy, states_sell, total_gains, invest = buy_stock(df.Close, signals['positions'])"
      ],
      "execution_count": 4,
      "outputs": [
        {
          "output_type": "stream",
          "text": [
            "day 4: buy 175 units at price 9960.999680, total balance 39.000320\n",
            "day 7, sell 175 units at price 9827.999973, investment -1.335204 %, total balance 9867.000294,\n",
            "day 13: buy 180 units at price 9844.199753, total balance 22.800541\n",
            "day 15, sell 180 units at price 9840.599670, investment -0.036571 %, total balance 9863.400211,\n",
            "day 17: buy 178 units at price 9832.720299, total balance 30.679913\n",
            "day 20, sell 178 units at price 9601.319756, investment -2.353373 %, total balance 9631.999668,\n",
            "day 22: buy 176 units at price 9583.200134, total balance 48.799534\n",
            "day 27, sell 176 units at price 9833.119812, investment 2.607894 %, total balance 9881.919346,\n",
            "day 30: buy 176 units at price 9829.599731, total balance 52.319614\n",
            "day 35, sell 176 units at price 10084.799866, investment 2.596241 %, total balance 10137.119480,\n",
            "day 36: buy 176 units at price 10116.479919, total balance 20.639561\n",
            "day 37, sell 176 units at price 10074.240295, investment -0.417533 %, total balance 10094.879856,\n",
            "day 38: buy 174 units at price 10076.339973, total balance 18.539883\n",
            "day 39, sell 174 units at price 10011.960159, investment -0.638921 %, total balance 10030.500042,\n",
            "day 40: buy 173 units at price 10004.590317, total balance 25.909725\n",
            "day 43, sell 173 units at price 10122.229710, investment 1.175854 %, total balance 10148.139435,\n",
            "day 46: buy 172 units at price 10111.880157, total balance 36.259277\n",
            "day 50, sell 172 units at price 10141.119843, investment 0.289162 %, total balance 10177.379120,\n",
            "day 52: buy 170 units at price 10126.899948, total balance 50.479172\n",
            "day 54, sell 170 units at price 10108.199844, investment -0.184658 %, total balance 10158.679016,\n",
            "day 59: buy 167 units at price 10108.509796, total balance 50.169220\n",
            "day 61, sell 167 units at price 10100.159924, investment -0.082602 %, total balance 10150.329144,\n"
          ],
          "name": "stdout"
        }
      ]
    },
    {
      "cell_type": "code",
      "metadata": {
        "id": "_rQRzvb4Q0Hc",
        "colab_type": "code",
        "colab": {
          "base_uri": "https://localhost:8080/",
          "height": 338
        },
        "outputId": "eabf9c0e-bb13-4c0a-d080-0088ba445212"
      },
      "source": [
        "close = df['Close']\n",
        "fig = plt.figure(figsize = (20,5))\n",
        "\n",
        "plt.plot(close, color='b', lw=1.)\n",
        "plt.plot(close, '^', markersize=5, color='green', label = 'buying signal', markevery = states_buy)\n",
        "plt.plot(close, 'v', markersize=5, color='red', label = 'selling signal', markevery = states_sell)\n",
        "plt.title('total gains %f, total investment %f%%'%(total_gains, invest))\n",
        "plt.legend()\n",
        "plt.show()"
      ],
      "execution_count": 5,
      "outputs": [
        {
          "output_type": "display_data",
          "data": {
            "image/png": "[encoded data removed]",
            "text/plain": [
              "<Figure size 1440x360 with 1 Axes>"
            ]
          },
          "metadata": {
            "tags": [],
            "needs_background": "light"
          }
        }
      ]
    }
  ]
}